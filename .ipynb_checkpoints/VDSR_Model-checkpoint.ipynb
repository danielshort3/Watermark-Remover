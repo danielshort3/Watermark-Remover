{
 "cells": [
  {
   "cell_type": "markdown",
   "id": "9317e80f-14bc-4f61-a98d-15b1f9322140",
   "metadata": {},
   "source": [
    "# VDSR Model"
   ]
  },
  {
   "cell_type": "markdown",
   "id": "78c9dcd4-97a3-477a-9f7e-ab74369562c1",
   "metadata": {},
   "source": [
    "## Setup and Imports"
   ]
  },
  {
   "cell_type": "code",
   "execution_count": 1,
   "id": "56dec1db",
   "metadata": {},
   "outputs": [],
   "source": [
    "from pathlib import Path\n",
    "import os\n",
    "import random\n",
    "import numpy as np\n",
    "import matplotlib.pyplot as plt\n",
    "from timeit import default_timer as timer\n",
    "from glob import glob\n",
    "\n",
    "import torch\n",
    "import torch.nn as nn\n",
    "import torch.optim as optim\n",
    "import torch.nn.functional as F\n",
    "from torch.utils.data import DataLoader, Dataset, random_split\n",
    "from torchvision import transforms, models\n",
    "from torchvision.models import vgg19\n",
    "from tqdm.notebook import tqdm\n",
    "from PIL import Image\n",
    "from sklearn.model_selection import train_test_split\n",
    "from sklearn.metrics import mean_squared_error, mean_absolute_error\n",
    "from pytorch_msssim import SSIM"
   ]
  },
  {
   "cell_type": "markdown",
   "id": "7a306a52-0f69-4f68-8f7f-d6a36ac00013",
   "metadata": {},
   "source": [
    "## Device Configuration"
   ]
  },
  {
   "cell_type": "code",
   "execution_count": 2,
   "id": "b740a276",
   "metadata": {},
   "outputs": [],
   "source": [
    "device = torch.device(\"cuda:1\")  # Change this to cuda:1\n",
    "# device = torch.device('cuda' if torch.cuda.is_available() else 'cpu')\n",
    "upsample = nn.Upsample(size=(2200, 1700), mode='nearest')"
   ]
  },
  {
   "cell_type": "markdown",
   "id": "ba20b4a7-6cf8-4183-93b9-22cb03d87a4b",
   "metadata": {},
   "source": [
    "## Directory Setup"
   ]
  },
  {
   "cell_type": "code",
   "execution_count": 3,
   "id": "422a7762",
   "metadata": {},
   "outputs": [],
   "source": [
    "Base_Dir = Path.cwd()\n",
    "Image_Folder = Path('Images')\n",
    "Model_Folder = Path('models')\n",
    "Result_Folder = Path('Results')\n",
    "\n",
    "SubFolder = Path('VDSR')\n",
    "Data_Folder = Base_Dir / 'data'\n",
    "\n",
    "Actual_Images_Folder = Data_Folder / 'Actual_Images'\n",
    "Church_Music_Extracted_Folder = Data_Folder / 'Church_Music_Extracted'\n",
    "\n",
    "High_Res_Folder = Actual_Images_Folder / 'High_Res_Shifted'\n",
    "Low_Res_Folder = Actual_Images_Folder / 'Low_Res_Watermark_Removed'\n",
    "High_Res_Online_Folder = Actual_Images_Folder / 'High_Res_Online'\n",
    "Low_Res_Online_Folder = Actual_Images_Folder / 'Low_Res_Online_Watermark_Removed'\n",
    "High_Res_Other_Folder = Church_Music_Extracted_Folder / 'High_Res'\n",
    "Low_Res_Other_Folder = Church_Music_Extracted_Folder / 'Low_Res_Watermark_Removed'\n",
    "\n",
    "image_dir_path = Image_Folder / SubFolder\n",
    "image_dir_path.mkdir(parents=True, exist_ok=True)\n",
    "\n",
    "model_dir_path = Model_Folder / SubFolder\n",
    "model_dir_path.mkdir(parents=True, exist_ok=True)\n",
    "\n",
    "result_dir_path = Result_Folder / SubFolder\n",
    "result_dir_path.mkdir(parents=True, exist_ok=True)"
   ]
  },
  {
   "cell_type": "markdown",
   "id": "33bc6cd5-0a22-4304-b5d0-3fd2b2b3922b",
   "metadata": {},
   "source": [
    "## Visualization Functions"
   ]
  },
  {
   "cell_type": "markdown",
   "id": "d6e48e9f-b0ca-4808-ac54-9f1cf3e2fd02",
   "metadata": {},
   "source": [
    "### Plot Images"
   ]
  },
  {
   "cell_type": "code",
   "execution_count": 4,
   "id": "80b3d6aa",
   "metadata": {},
   "outputs": [],
   "source": [
    "def plot_images(X_upscaled, X_pred, y, kind):\n",
    "    \"\"\"\n",
    "    Plot and display original, predicted, and actual images.\n",
    "    \n",
    "    Parameters:\n",
    "    - X_upscaled (Tensor): Upscaled input images.\n",
    "    - X_pred (Tensor): Predicted output images.\n",
    "    - y (Tensor): Actual target images.\n",
    "    - kind (str): Description of the images (e.g., \"Validation\", \"Training\").\n",
    "    \"\"\"\n",
    "    plt.figure(figsize=(70, 70))\n",
    "    plt.subplot(1, 3, 1)\n",
    "    plt.imshow(X_upscaled[0].cpu().detach().squeeze(), cmap='gray')\n",
    "    plt.title(f\"{kind} Original\")\n",
    "    plt.subplot(1, 3, 2)\n",
    "    plt.imshow(X_pred[0].cpu().detach().squeeze(), cmap='gray')\n",
    "    plt.title(f\"{kind} Predicted\")\n",
    "    plt.subplot(1, 3, 3)\n",
    "    plt.imshow(y[0].cpu().detach().squeeze(), cmap='gray')\n",
    "    plt.title(f\"{kind} Actual\")\n",
    "    plt.show()"
   ]
  },
  {
   "cell_type": "markdown",
   "id": "180f467c-3e94-4ce3-802e-661542c8c0d7",
   "metadata": {},
   "source": [
    "### Plot Patches"
   ]
  },
  {
   "cell_type": "code",
   "execution_count": 5,
   "id": "0296bb71",
   "metadata": {},
   "outputs": [],
   "source": [
    "def plot_patches(X, y, X_upscaled, X_patch, X_pred_patch, y_patch, X_pred):\n",
    "    \"\"\"\n",
    "    Plot and display patches of images.\n",
    "    \n",
    "    Parameters:\n",
    "    - X (Tensor): Input images.\n",
    "    - y (Tensor): Target images.\n",
    "    - X_upscaled (Tensor): Upscaled input images.\n",
    "    - X_patch (Tensor): Patches of input images.\n",
    "    - X_pred_patch (Tensor): Patches of predicted images.\n",
    "    - y_patch (Tensor): Patches of target images.\n",
    "    - X_pred (Tensor): Predicted output images.\n",
    "    \"\"\"\n",
    "    plt.figure(figsize=(15, 8))  # Adjust the figure size as needed\n",
    "    \n",
    "    # First row\n",
    "    plt.subplot(2, 3, 1)\n",
    "    plt.imshow(X[0].cpu().detach().squeeze(), cmap='gray')\n",
    "    plt.title('X')\n",
    "\n",
    "    plt.subplot(2, 3, 2)\n",
    "    plt.imshow(y[0].cpu().detach().squeeze(), cmap='gray')\n",
    "    plt.title('y')\n",
    "\n",
    "    plt.subplot(2, 3, 3)\n",
    "    plt.imshow(X_upscaled[0].cpu().detach().squeeze(), cmap='gray')\n",
    "    plt.title('X_upscaled')\n",
    "\n",
    "    # Second row\n",
    "    plt.subplot(2, 4, 5)\n",
    "    plt.imshow(X_patch[0].cpu().detach().squeeze(), cmap='gray')\n",
    "    plt.title('X_patch')\n",
    "\n",
    "    plt.subplot(2, 4, 6)\n",
    "    plt.imshow(X_pred_patch[0].cpu().detach().squeeze(), cmap='gray')\n",
    "    plt.title('X_pred_patch')\n",
    "\n",
    "    plt.subplot(2, 4, 7)\n",
    "    plt.imshow(y_patch[0].cpu().detach().squeeze(), cmap='gray')\n",
    "    plt.title('y_patch')\n",
    "\n",
    "    plt.subplot(2, 4, 8)\n",
    "    plt.imshow(X_pred[0].cpu().detach().squeeze(), cmap='gray')\n",
    "    plt.title('X_pred')\n",
    "\n",
    "    plt.tight_layout()\n",
    "    plt.show()"
   ]
  },
  {
   "cell_type": "markdown",
   "id": "d9675ce7-d7d4-44a4-87e8-ef79ce026676",
   "metadata": {},
   "source": [
    "### Save Plot"
   ]
  },
  {
   "cell_type": "code",
   "execution_count": 6,
   "id": "f00b257e",
   "metadata": {},
   "outputs": [],
   "source": [
    "def save_plot(file_name, dir_path, plt):\n",
    "    \"\"\"\n",
    "    Save the plot to a specified directory.\n",
    "    \n",
    "    Parameters:\n",
    "    - file_name (str): Name of the file to save the plot as.\n",
    "    - dir_path (str): Directory path to save the plot.\n",
    "    - plt (matplotlib.pyplot): The plot object to save.\n",
    "    \"\"\"\n",
    "    # Construct the full path for the image\n",
    "    full_path = os.path.join(dir_path, file_name)\n",
    "    \n",
    "    # Save the plot\n",
    "    plt.savefig(full_path)\n",
    "    \n",
    "    # Print a message indicating the image has been saved\n",
    "    print(f\"Image has been saved at {full_path}\")"
   ]
  },
  {
   "cell_type": "markdown",
   "id": "a260a996",
   "metadata": {},
   "source": [
    "## Train Functions"
   ]
  },
  {
   "cell_type": "markdown",
   "id": "4f624a50-820d-49d2-8dfb-96834f05b0c2",
   "metadata": {},
   "source": [
    "### Training Step"
   ]
  },
  {
   "cell_type": "code",
   "execution_count": 7,
   "id": "5247d1cd",
   "metadata": {},
   "outputs": [],
   "source": [
    "def train_step(model: torch.nn.Module,\n",
    "               dataloader: torch.utils.data.DataLoader,\n",
    "               loss_fn: torch.nn.Module,\n",
    "               optimizer: torch.optim.Optimizer,\n",
    "               patch_height: int, \n",
    "               patch_width: int,\n",
    "               padding_size: int,\n",
    "               device,\n",
    "               print_images=0):\n",
    "    \"\"\"\n",
    "    Perform a single training step.\n",
    "\n",
    "    Parameters:\n",
    "    - model (nn.Module): The model to train.\n",
    "    - dataloader (DataLoader): DataLoader for training data.\n",
    "    - loss_fn (nn.Module): Loss function.\n",
    "    - optimizer (torch.optim.Optimizer): Optimizer for training.\n",
    "    - patch_height (int): Height of the image patches.\n",
    "    - patch_width (int): Width of the image patches.\n",
    "    - padding_size (int): Size of padding around each patch.\n",
    "    - device (torch.device): Device to run the training on (CPU or GPU).\n",
    "    - print_images (int): Interval for displaying images during training (default: 0).\n",
    "\n",
    "    Returns:\n",
    "    - train_loss (float): Average training loss.\n",
    "    \"\"\"\n",
    "    if 2200 % patch_height != 0 or 1700 % patch_width != 0:\n",
    "        raise ValueError(\"Image dimensions must be evenly divisible by patch dimensions.\")\n",
    "\n",
    "    model.train()\n",
    "    train_loss = 0\n",
    "\n",
    "    for batch, (X, y) in tqdm(enumerate(dataloader), total=len(dataloader)):\n",
    "        X, y = X.to(device), y.to(device)\n",
    "\n",
    "        # Upscale the image to 1700x2200\n",
    "        X_upscaled = upsample(X)\n",
    "\n",
    "        # Pad the outside of the image with white pixels\n",
    "        padding = (padding_size, padding_size, padding_size, padding_size)  # left, right, top, bottom\n",
    "        X_upscaled_padded = pad(X_upscaled, padding, value=1.0)  # Assuming white is 1.0\n",
    "\n",
    "        num_segments = (X_upscaled.shape[-2] // patch_height) * (X_upscaled.shape[-1] // patch_width)\n",
    "        batch_loss = 0\n",
    "\n",
    "        # Create empty tensors to store the predicted images\n",
    "        X_pred = torch.zeros_like(X_upscaled)\n",
    "\n",
    "        optimizer.zero_grad()\n",
    "        # Iterate over patches\n",
    "        for i in range(0, X_upscaled.shape[-2], patch_height):\n",
    "            for j in range(0, X_upscaled.shape[-1], patch_width):\n",
    "                # Extract patch with extra pixels around each edge\n",
    "                X_patch = X_upscaled_padded[:, :, i:i+patch_height+padding_size*2, j:j+patch_width+padding_size*2]\n",
    "\n",
    "                # Pass through the model\n",
    "                X_pred_patch = model(X_patch)\n",
    "\n",
    "                # Remove the extra padding from each edge of the predicted patch\n",
    "                X_pred_patch = X_pred_patch[:, :, padding_size:-padding_size, padding_size:-padding_size]\n",
    "\n",
    "                # Place the predicted patch into the correct location\n",
    "                X_pred[:, :, i:i+patch_height, j:j+patch_width] = X_pred_patch\n",
    "\n",
    "                # Calculate the loss\n",
    "                y_patch = y[:, :, i:i+patch_height, j:j+patch_width]\n",
    "                loss = loss_fn(X_pred_patch, y_patch)\n",
    "                batch_loss += loss.item()\n",
    "\n",
    "                # Backward only, not optimization\n",
    "                loss.backward()\n",
    "\n",
    "        # Move optimization step here, outside of the nested loop\n",
    "        optimizer.step()\n",
    "\n",
    "        batch_loss /= num_segments\n",
    "        train_loss += batch_loss\n",
    "\n",
    "        if print_images > 0 and batch % print_images == 0:\n",
    "            plot_images(X_upscaled, X_pred, y, \"Train\")\n",
    "                \n",
    "        print(f\"\\rBatch {batch + 1}: Training Loss: {batch_loss:.6f}\", end=\"\")\n",
    "\n",
    "    train_loss = train_loss / len(dataloader)\n",
    "    return train_loss"
   ]
  },
  {
   "cell_type": "markdown",
   "id": "9a5a1e9e-0b45-4592-afd2-d5571be1fb7c",
   "metadata": {},
   "source": [
    "### Validation Step"
   ]
  },
  {
   "cell_type": "code",
   "execution_count": 8,
   "id": "f710dafd",
   "metadata": {},
   "outputs": [],
   "source": [
    "def val_step(model: torch.nn.Module,\n",
    "             dataloader: torch.utils.data.DataLoader,\n",
    "             loss_fn: torch.nn.Module,\n",
    "             patch_height: int, \n",
    "             patch_width: int,\n",
    "             padding_size: int,\n",
    "             device,\n",
    "             print_images=0):\n",
    "    \"\"\"\n",
    "    Perform a single validation step.\n",
    "\n",
    "    Parameters:\n",
    "    - model (nn.Module): The model to validate.\n",
    "    - dataloader (DataLoader): DataLoader for validation data.\n",
    "    - loss_fn (nn.Module): Loss function.\n",
    "    - patch_height (int): Height of the image patches.\n",
    "    - patch_width (int): Width of the image patches.\n",
    "    - padding_size (int): Size of padding around each patch.\n",
    "    - device (torch.device): Device to run the validation on (CPU or GPU).\n",
    "    - print_images (int): Interval for displaying images during validation (default: 0).\n",
    "\n",
    "    Returns:\n",
    "    - val_loss (float): Average validation loss.\n",
    "    \"\"\"\n",
    "    if 2200 % patch_height != 0 or 1700 % patch_width != 0:\n",
    "        raise ValueError(\"Image dimensions must be evenly divisible by patch dimensions.\")\n",
    "\n",
    "    model.eval()\n",
    "    val_loss = 0\n",
    "\n",
    "    with torch.inference_mode():\n",
    "        for batch, (X, y) in tqdm(enumerate(dataloader), total=len(dataloader)):\n",
    "            X, y = X.to(device), y.to(device)\n",
    "\n",
    "            # Upscale the image to 1700x2200\n",
    "            X_upscaled = upsample(X)\n",
    "\n",
    "            # Pad the outside of the image with white pixels\n",
    "            padding = (padding_size, padding_size, padding_size, padding_size)  # left, right, top, bottom\n",
    "            X_upscaled_padded = pad(X_upscaled, padding, value=1.0)  # Assuming white is 1.0\n",
    "            \n",
    "            num_segments = (X_upscaled.shape[-2] // patch_height) * (X_upscaled.shape[-1] // patch_width)\n",
    "            batch_loss = 0\n",
    "\n",
    "            # Create empty tensors to store the predicted images\n",
    "            X_pred = torch.zeros_like(X_upscaled)\n",
    "\n",
    "            for i in range(0, X_upscaled.shape[-2], patch_height):\n",
    "                for j in range(0, X_upscaled.shape[-1], patch_width):\n",
    "                    X_patch = X_upscaled_padded[:, :, i:i+patch_height+padding_size*2, j:j+patch_width+padding_size*2]\n",
    "\n",
    "                    # Pass through the model\n",
    "                    X_pred_patch = model(X_patch)\n",
    "\n",
    "                    # Remove the extra padding from each edge of the predicted patch\n",
    "                    X_pred_patch = X_pred_patch[:, :, padding_size:-padding_size, padding_size:-padding_size]\n",
    "\n",
    "                    # Place the predicted patch into the correct location\n",
    "                    X_pred[:, :, i:i+patch_height, j:j+patch_width] = X_pred_patch\n",
    "                    \n",
    "                    # Calculate the loss\n",
    "                    y_patch = y[:, :, i:i+patch_height, j:j+patch_width]\n",
    "                    loss = loss_fn(X_pred_patch, y_patch)\n",
    "                    batch_loss += loss.item()\n",
    "\n",
    "            batch_loss /= num_segments\n",
    "            val_loss += batch_loss\n",
    "            \n",
    "            if print_images > 0 and batch % print_images == 0:\n",
    "                plot_images(X_upscaled, X_pred, y, \"Test\")\n",
    "\n",
    "            print(f\"\\rBatch {batch + 1}: Validation Loss: {batch_loss:.6f}\", end=\"\")\n",
    "            \n",
    "    val_loss = val_loss / len(dataloader)\n",
    "    return val_loss"
   ]
  },
  {
   "cell_type": "markdown",
   "id": "ad9027d8-c28f-4eaa-81ec-2332bea2f75c",
   "metadata": {},
   "source": [
    "### Training Loop"
   ]
  },
  {
   "cell_type": "code",
   "execution_count": 9,
   "id": "2435379d",
   "metadata": {},
   "outputs": [],
   "source": [
    "def train(model_name: str,\n",
    "          model: torch.nn.Module,\n",
    "          train_dataloader: torch.utils.data.DataLoader,\n",
    "          val_dataloader: torch.utils.data.DataLoader,\n",
    "          optimizer: torch.optim.Optimizer,\n",
    "          loss_fn: torch.nn.Module,\n",
    "          patch_height: int = 100, \n",
    "          patch_width: int = 100,\n",
    "          padding_size: int = 32,\n",
    "          max_epochs: int = 3,\n",
    "          save_epochs: int = 1,\n",
    "          device=None,\n",
    "          load_model: bool = True,\n",
    "          save_model: bool = True,\n",
    "          continue_training: bool = False,\n",
    "          print_images: int = 0,\n",
    "          model_dir_path=model_dir_path):\n",
    "    \"\"\"\n",
    "    Train the model.\n",
    "\n",
    "    Parameters:\n",
    "    - model_name (str): Name of the model.\n",
    "    - model (nn.Module): The model to train.\n",
    "    - train_dataloader (DataLoader): DataLoader for training data.\n",
    "    - val_dataloader (DataLoader): DataLoader for validation data.\n",
    "    - optimizer (torch.optim.Optimizer): Optimizer for training.\n",
    "    - loss_fn (nn.Module): Loss function.\n",
    "    - patch_height (int): Height of the image patches.\n",
    "    - patch_width (int): Width of the image patches.\n",
    "    - padding_size (int): Size of padding around each patch.\n",
    "    - max_epochs (int): Maximum number of epochs to train (default: 3).\n",
    "    - save_epochs (int): Interval for saving the model (default: 1).\n",
    "    - device (torch.device): Device to run the training on (CPU or GPU).\n",
    "    - load_model (bool): Flag to load an existing model (default: True).\n",
    "    - save_model (bool): Flag to save the model (default: True).\n",
    "    - continue_training (bool): Flag to continue training from the last checkpoint (default: False).\n",
    "    - print_images (int): Interval for displaying images during training (default: 0).\n",
    "    - model_dir_path (str): Path to the directory to save the model.\n",
    "\n",
    "    Returns:\n",
    "    - results (dict): Dictionary containing training and validation losses and training time.\n",
    "    \"\"\"\n",
    "    model_path = os.path.join(model_dir_path, f\"{model_name}.pth\")\n",
    "    results = {\"train_loss\": [], \"val_loss\": []}\n",
    "\n",
    "    if load_model:\n",
    "        model_path, last_epoch = find_latest_checkpoint(model_dir_path, model_name)\n",
    "        if model_path is None:\n",
    "            print(f\"No existing model found. Training a new model.\")\n",
    "            start_epoch = 1\n",
    "        else:\n",
    "            loaded = load_model_fn(model, model_path, results)\n",
    "            if loaded and not continue_training:\n",
    "                return results\n",
    "\n",
    "            print(f\"Continuing to train {model_name} from epoch {last_epoch} for {max_epochs - last_epoch} more epochs.\")\n",
    "            start_epoch = last_epoch + 1\n",
    "    else:\n",
    "        start_epoch = 1\n",
    "\n",
    "    start_time = timer()\n",
    "\n",
    "    for epoch in tqdm(range(start_epoch, max_epochs + 1)):\n",
    "        dataset.refresh_file_list(training=True)\n",
    "        train_loss = train_step(model=model,\n",
    "                                dataloader=train_dataloader,\n",
    "                                loss_fn=loss_fn,\n",
    "                                optimizer=optimizer,\n",
    "                                patch_height=patch_height, \n",
    "                                patch_width=patch_width,\n",
    "                                padding_size=padding_size,\n",
    "                                device=device,\n",
    "                                print_images=print_images)\n",
    "        dataset.refresh_file_list(training=False)\n",
    "        val_loss = val_step(model=model,\n",
    "                            dataloader=val_dataloader,\n",
    "                            loss_fn=loss_fn,\n",
    "                            patch_height=patch_height, \n",
    "                            patch_width=patch_width,\n",
    "                            padding_size=padding_size,\n",
    "                            device=device,\n",
    "                            print_images=print_images)\n",
    "        print(f\"\\n\\nEpoch: {epoch} | Train loss: {train_loss:.6f} | Val loss: {val_loss:.6f}\\n\")\n",
    "\n",
    "        results[\"train_loss\"].append(train_loss)\n",
    "        results[\"val_loss\"].append(val_loss)\n",
    "\n",
    "        end_time = timer()\n",
    "        train_time = end_time - start_time\n",
    "        results['train_time'] = train_time  # Add train_time to the results dictionary\n",
    "      \n",
    "        if (epoch - 1) % save_epochs == 0 and save_model:\n",
    "            epoch_model_path = os.path.join(model_dir_path, f\"{model_name}_epoch_{epoch}.pth\")\n",
    "            results['last_epoch'] = epoch  # Store the current epoch number\n",
    "            save_model_fn(model, epoch_model_path, results)\n",
    "    \n",
    "    return results\n"
   ]
  },
  {
   "cell_type": "markdown",
   "id": "b5b0b52a-8e9a-4467-a91c-c8b3a37215cd",
   "metadata": {},
   "source": [
    "### Load Model"
   ]
  },
  {
   "cell_type": "code",
   "execution_count": 10,
   "id": "72ecd232",
   "metadata": {},
   "outputs": [],
   "source": [
    "def load_model_fn(model, model_path, results):\n",
    "    \"\"\"\n",
    "    Load the model state from the specified checkpoint file.\n",
    "    \n",
    "    Parameters:\n",
    "    - model (torch.nn.Module): The model to load the state into.\n",
    "    - model_path (str): Path to the checkpoint file.\n",
    "    - results (dict): Dictionary to store the training results.\n",
    "    \n",
    "    Returns:\n",
    "    - bool: True if the model was loaded successfully, False otherwise.\n",
    "    \"\"\"\n",
    "    if os.path.isfile(model_path):\n",
    "        checkpoint = torch.load(model_path)\n",
    "        state_dict = checkpoint['state_dict']\n",
    "        new_state_dict = {}\n",
    "        for k, v in state_dict.items():\n",
    "            # Handle DataParallel keys\n",
    "            if k.startswith('module._orig_mod.'):\n",
    "                # Remove the prefix 'module._orig_mod.' from the key\n",
    "                new_key = k[len('module._orig_mod.'):]\n",
    "            else:\n",
    "                new_key = k\n",
    "            new_state_dict[new_key] = v\n",
    "        model.load_state_dict(new_state_dict, strict=True)\n",
    "        results['train_loss'] = checkpoint['train_loss']\n",
    "        results['val_loss'] = checkpoint['val_loss']\n",
    "        results['train_time'] = checkpoint['train_time']\n",
    "        results['last_epoch'] = checkpoint.get('last_epoch', 0) # Load the last_epoch value if it exists\n",
    "        print(f\"Model loaded from {model_path}\")\n",
    "        return True\n",
    "    else:\n",
    "        print(f\"No existing model found at {model_path}. Training a new model.\")\n",
    "        return False"
   ]
  },
  {
   "cell_type": "markdown",
   "id": "a3ac0770-e76c-436f-9ac0-5f877281ddff",
   "metadata": {},
   "source": [
    "### Save Model"
   ]
  },
  {
   "cell_type": "code",
   "execution_count": 11,
   "id": "63415d6d",
   "metadata": {},
   "outputs": [],
   "source": [
    "def save_model_fn(model, model_path, results):\n",
    "    \"\"\"\n",
    "    Save the current state of the model.\n",
    "\n",
    "    Parameters:\n",
    "    - model (nn.Module): Model to save.\n",
    "    - model_path (str): Path to save the model checkpoint.\n",
    "    - results (dict): Dictionary containing training and validation losses and training time.\n",
    "    \"\"\"\n",
    "    save_dict = {\n",
    "        'state_dict': model.state_dict(),\n",
    "        'train_loss': results['train_loss'],\n",
    "        'val_loss': results['val_loss'],\n",
    "        'train_time': results['train_time'],\n",
    "        'last_epoch': results.get('last_epoch', 0)  # Save the last_epoch value if it exists\n",
    "    }\n",
    "    torch.save(save_dict, model_path)\n",
    "    print(f\"Model saved at {model_path}\")"
   ]
  },
  {
   "cell_type": "markdown",
   "id": "34209832-0c40-4d5a-a3de-5146286cfd7a",
   "metadata": {},
   "source": [
    "### Find Latest Checkpoint"
   ]
  },
  {
   "cell_type": "code",
   "execution_count": 12,
   "id": "8b3c3782",
   "metadata": {},
   "outputs": [],
   "source": [
    "def find_latest_checkpoint(model_dir_path, model_name):\n",
    "    \"\"\"\n",
    "    Find the latest model checkpoint.\n",
    "\n",
    "    Parameters:\n",
    "    - model_dir_path (str): Path to the directory containing model checkpoints.\n",
    "    - model_name (str): Name of the model to find checkpoints for.\n",
    "\n",
    "    Returns:\n",
    "    - str: Path to the latest model checkpoint.\n",
    "    - int: Epoch number of the latest model checkpoint.\n",
    "    \"\"\"\n",
    "    max_epoch = -1\n",
    "    latest_model_path = None\n",
    "    \n",
    "    for filename in os.listdir(model_dir_path):\n",
    "        if model_name in filename and filename.endswith(\".pth\"):\n",
    "            epoch_number = int(filename.split('_epoch_')[-1].split('.pth')[0])\n",
    "            if epoch_number > max_epoch:\n",
    "                max_epoch = epoch_number\n",
    "                latest_model_path = os.path.join(model_dir_path, filename)\n",
    "    \n",
    "    return latest_model_path, max_epoch"
   ]
  },
  {
   "cell_type": "markdown",
   "id": "0316667b-d796-4723-8bb5-1ab23ce54618",
   "metadata": {},
   "source": [
    "### Plot Training and Validation Loss"
   ]
  },
  {
   "cell_type": "code",
   "execution_count": 13,
   "id": "437bf312",
   "metadata": {},
   "outputs": [],
   "source": [
    "def plot_train_val_loss(results, model, image_dir_path=image_dir_path):\n",
    "    \"\"\"\n",
    "    Plot and save the training and validation loss.\n",
    "\n",
    "    Parameters:\n",
    "    - results (dict): Dictionary containing training and validation losses.\n",
    "    - model (str): Name of the model.\n",
    "    - image_dir_path (str): Path to save the plot.\n",
    "    \"\"\"\n",
    "    plt.figure(figsize=(10, 5))\n",
    "\n",
    "    plt.plot(results['train_loss'], label='Training Loss')\n",
    "    plt.plot(results['val_loss'], label='Validation Loss')\n",
    "\n",
    "    # Find the epoch with the lowest validation loss\n",
    "    min_val_loss_epoch = results['val_loss'].index(min(results['val_loss']))\n",
    "    min_val_loss_value = results['val_loss'][min_val_loss_epoch]\n",
    "\n",
    "    # Get current y-axis and x-axis limits\n",
    "    y_lim = plt.ylim()\n",
    "    x_lim = plt.xlim()\n",
    "\n",
    "    # Determine annotation position\n",
    "    offset_y = 0.05 * (y_lim[1] - y_lim[0])  # 5% of y-axis range for vertical adjustment\n",
    "    offset_x = 0.05 * (x_lim[1] - x_lim[0])  # 5% of x-axis range for horizontal adjustment\n",
    "    \n",
    "    if min_val_loss_epoch > (x_lim[1] - x_lim[0]) / 2:\n",
    "        text_position_x = min_val_loss_epoch - offset_x\n",
    "    else:\n",
    "        text_position_x = min_val_loss_epoch + offset_x\n",
    "\n",
    "    text_position_y = min_val_loss_value + offset_y\n",
    "\n",
    "    # Annotate the point with the epoch and validation loss value\n",
    "    plt.annotate(f'Lowest Val Loss\\nEpoch: {min_val_loss_epoch + 1}\\nLoss: {min_val_loss_value:.5f}',\n",
    "                 xy=(min_val_loss_epoch, min_val_loss_value),\n",
    "                 xytext=(text_position_x, text_position_y),\n",
    "                 arrowprops=dict(facecolor='black', arrowstyle='->'),\n",
    "                 fontsize=9,\n",
    "                 ha='center',\n",
    "                 bbox=dict(boxstyle=\"round,pad=0.3\", edgecolor=\"black\", facecolor=\"white\"))\n",
    "\n",
    "    plt.xlabel('Epoch')\n",
    "    plt.ylabel('Loss')\n",
    "    plt.title(f'Train and Validation Loss for {model}')\n",
    "    plt.legend()\n",
    "\n",
    "    save_plot(f\"{model}_Train_Val_Loss\", image_dir_path, plt)\n",
    "\n",
    "    plt.show()"
   ]
  },
  {
   "cell_type": "markdown",
   "id": "ec9ac268",
   "metadata": {},
   "source": [
    "## Dataset Class"
   ]
  },
  {
   "cell_type": "markdown",
   "id": "0411d2f4-9dee-464a-b194-b58c9b579971",
   "metadata": {},
   "source": [
    "### Custom Dataset"
   ]
  },
  {
   "cell_type": "code",
   "execution_count": 14,
   "id": "c5aef0e3",
   "metadata": {},
   "outputs": [],
   "source": [
    "class CustomDataset(Dataset):\n",
    "    def __init__(self, dir_high_res, dir_low_res, dir_high_res_online, dir_low_res_online, dir_high_res_other, dir_low_res_other, alpha=0.1):\n",
    "        \"\"\"\n",
    "        Custom dataset for loading and transforming images.\n",
    "\n",
    "        Parameters:\n",
    "        - dir_high_res (str): Directory for high-resolution images.\n",
    "        - dir_low_res (str): Directory for low-resolution images.\n",
    "        - dir_high_res_online (str): Directory for online high-resolution images.\n",
    "        - dir_low_res_online (str): Directory for online low-resolution images.\n",
    "        - dir_high_res_other (str): Directory for other high-resolution images.\n",
    "        - dir_low_res_other (str): Directory for other low-resolution images.\n",
    "        - alpha (float): Proportion of data for validation (default: 0.1).\n",
    "        \"\"\"\n",
    "        self.dir_high_res = dir_high_res\n",
    "        self.dir_low_res = dir_low_res\n",
    "        self.dir_high_res_online = dir_high_res_online\n",
    "        self.dir_low_res_online = dir_low_res_online\n",
    "        self.dir_high_res_other = dir_high_res_other\n",
    "        self.dir_low_res_other = dir_low_res_other\n",
    "        \n",
    "        # Fix the random seed for reproducibility\n",
    "        random.seed(42)\n",
    "        \n",
    "        all_files = os.listdir(self.dir_high_res)\n",
    "        \n",
    "        # Use train_test_split for deterministic splitting\n",
    "        self.train_files, self.val_files = train_test_split(all_files, test_size=alpha, random_state=42)\n",
    "        \n",
    "        self.file_list = []\n",
    "        self.refresh_file_list(training=True)\n",
    "\n",
    "        self.transform = transforms.Compose([\n",
    "            transforms.Grayscale(),\n",
    "            transforms.ToTensor()\n",
    "        ])\n",
    "\n",
    "    def refresh_file_list(self, training=True):\n",
    "        \"\"\"\n",
    "        Refresh the file list for training or validation.\n",
    "\n",
    "        Parameters:\n",
    "        - training (bool): Flag to indicate if the file list is for training (default: True).\n",
    "        \"\"\"\n",
    "        if training:\n",
    "            correlated_online_files = os.listdir(self.dir_high_res_online)\n",
    "            other_files = os.listdir(self.dir_high_res_other)\n",
    "            \n",
    "            self.file_list = [(f, 'original') for f in self.train_files] + \\\n",
    "                             [(f, 'other') for f in random.sample(other_files, len(self.train_files) // 5)] + \\\n",
    "                             [(f, 'online') for f in random.sample(correlated_online_files, len(self.train_files) // 10)]\n",
    "            \n",
    "            random.shuffle(self.file_list)\n",
    "            \n",
    "            # Count the number of files for each type and display them\n",
    "            counts = {'original': 0, 'online': 0, 'other': 0}\n",
    "            for _, source in self.file_list:\n",
    "                counts[source] += 1\n",
    "            print(f\"\\nNumber of original files: {counts['original']}\")\n",
    "            print(f\"Number of other files: {counts['other']}\")\n",
    "            print(f\"Number of online files: {counts['online']}\")\n",
    "        else:\n",
    "            self.file_list = [(f, 'original') for f in self.val_files]\n",
    "            # Count the number of files for each type and display them\n",
    "            counts = {'original': 0, 'online': 0, 'other': 0}\n",
    "            for _, source in self.file_list:\n",
    "                counts[source] += 1\n",
    "            print(f\"\\n\\nNumber of original files: {counts['original']}\")\n",
    "            print(f\"Number of other files: {counts['other']}\")\n",
    "            print(f\"Number of online files: {counts['online']}\")\n",
    "            \n",
    "    def __len__(self):\n",
    "        return len(self.file_list)\n",
    "\n",
    "    def __getitem__(self, index):\n",
    "        \"\"\"\n",
    "        Get an item from the dataset.\n",
    "\n",
    "        Parameters:\n",
    "        - index (int): Index of the item to retrieve.\n",
    "\n",
    "        Returns:\n",
    "        - tuple: Low-resolution and high-resolution image tensors.\n",
    "        \"\"\"\n",
    "        file_name, source = self.file_list[index]\n",
    "        \n",
    "        if source == 'original':\n",
    "            high_res_dir, low_res_dir = self.dir_high_res, self.dir_low_res\n",
    "        elif source == 'online':\n",
    "            high_res_dir, low_res_dir = self.dir_high_res_online, self.dir_low_res_online\n",
    "        else:  # 'other'\n",
    "            high_res_dir, low_res_dir = self.dir_high_res_other, self.dir_low_res_other\n",
    "        \n",
    "        high_res_img = Image.open(os.path.join(high_res_dir, file_name))\n",
    "        low_res_img = Image.open(os.path.join(low_res_dir, file_name))\n",
    "\n",
    "        high_res_img_tensor = self.transform(high_res_img)\n",
    "        low_res_img_tensor = self.transform(low_res_img)\n",
    "\n",
    "        return low_res_img_tensor, high_res_img_tensor"
   ]
  },
  {
   "cell_type": "markdown",
   "id": "48c6e3fe-de7b-4948-a930-927d8a0a6f43",
   "metadata": {},
   "source": [
    "### Initialize Dataset"
   ]
  },
  {
   "cell_type": "code",
   "execution_count": 15,
   "id": "8cd7668e",
   "metadata": {},
   "outputs": [
    {
     "name": "stdout",
     "output_type": "stream",
     "text": [
      "\n",
      "Number of original files: 5815\n",
      "Number of other files: 1163\n",
      "Number of online files: 581\n"
     ]
    }
   ],
   "source": [
    "dataset = CustomDataset(\n",
    "    High_Res_Folder,\n",
    "    Low_Res_Folder,\n",
    "    High_Res_Online_Folder,\n",
    "    Low_Res_Online_Folder,\n",
    "    High_Res_Other_Folder,\n",
    "    Low_Res_Other_Folder,\n",
    "    alpha=0.1\n",
    ")"
   ]
  },
  {
   "cell_type": "markdown",
   "id": "8cac1ff5",
   "metadata": {},
   "source": [
    "## Model Configuration"
   ]
  },
  {
   "cell_type": "markdown",
   "id": "31081016-984e-4fe6-9982-f17978afde12",
   "metadata": {},
   "source": [
    "### Hyperparameters"
   ]
  },
  {
   "cell_type": "code",
   "execution_count": 16,
   "id": "e2e11c6e",
   "metadata": {},
   "outputs": [],
   "source": [
    "# Hyperparameters\n",
    "MAX_EPOCHS = 50\n",
    "SAVE_EPOCHS = 1\n",
    "BATCH_SIZE = 1\n",
    "LEARNING_RATE = 0.001\n",
    "PATCH_HEIGHT = 550\n",
    "PATCH_WIDTH = 850\n",
    "PADDING_SIZE = 16\n",
    "LOAD_MODEL = True\n",
    "SAVE_MODEL = True\n",
    "CONTINUE_TRAINING = True\n",
    "PRINT_IMAGES = 100"
   ]
  },
  {
   "cell_type": "markdown",
   "id": "5b6687f2-f7e5-45dc-a162-b3c44414b3b3",
   "metadata": {},
   "source": [
    "### DataLoader Initialization"
   ]
  },
  {
   "cell_type": "code",
   "execution_count": 17,
   "id": "e8ab9ad2",
   "metadata": {},
   "outputs": [],
   "source": [
    "train_dataloader = DataLoader(dataset, batch_size=BATCH_SIZE, shuffle=True)\n",
    "val_dataloader = DataLoader(dataset, batch_size=BATCH_SIZE, shuffle=False)"
   ]
  },
  {
   "cell_type": "markdown",
   "id": "ad8154f5-e711-488f-a8fb-e0c9aa0b0628",
   "metadata": {},
   "source": [
    "## Model"
   ]
  },
  {
   "cell_type": "code",
   "execution_count": 18,
   "id": "732bc965",
   "metadata": {},
   "outputs": [],
   "source": [
    "class ModifiedVDSR(nn.Module):\n",
    "    def __init__(self):\n",
    "        super(ModifiedVDSR, self).__init__()\n",
    "        layers = []\n",
    "        \n",
    "        # Initial Convolution\n",
    "        layers.append(nn.Conv2d(1, 64, kernel_size=3, padding=1))\n",
    "        layers.append(nn.ReLU(inplace=True))\n",
    "        layers.append(nn.BatchNorm2d(64))\n",
    "        \n",
    "        # Middle layers with skip connections\n",
    "        for _ in range(9):  # 9 blocks of 2 layers each, making it 18 layers\n",
    "            layers.append(self.make_block(64, 64))\n",
    "        \n",
    "        # Final Convolution\n",
    "        layers.append(nn.Conv2d(64, 1, kernel_size=3, padding=1))\n",
    "        \n",
    "        self.layers = nn.Sequential(*layers)\n",
    "        \n",
    "    def make_block(self, in_channels, out_channels):\n",
    "        return nn.Sequential(\n",
    "            nn.Conv2d(in_channels, out_channels, kernel_size=3, padding=1),\n",
    "            nn.BatchNorm2d(out_channels),\n",
    "            nn.ReLU(inplace=True),\n",
    "            nn.Conv2d(out_channels, out_channels, kernel_size=3, padding=1),\n",
    "            nn.BatchNorm2d(out_channels)\n",
    "        )\n",
    "\n",
    "    def forward(self, x):\n",
    "        residual = x\n",
    "        out = self.layers(x)\n",
    "        out += residual\n",
    "        return out.clamp(0, 1)"
   ]
  },
  {
   "cell_type": "markdown",
   "id": "90d9ceae-e2e6-4709-9ba1-6136f77ae23d",
   "metadata": {},
   "source": [
    "## Loss Functions"
   ]
  },
  {
   "cell_type": "markdown",
   "id": "0ede467a-a7d7-4589-91d1-29d82a074495",
   "metadata": {},
   "source": [
    "### Perceptual Loss"
   ]
  },
  {
   "cell_type": "code",
   "execution_count": 19,
   "id": "3ff9a5c2-507b-4ba9-a0f6-f56d17d11c1d",
   "metadata": {},
   "outputs": [],
   "source": [
    "# Define a VGG19-based perceptual loss\n",
    "class PerceptualLoss(nn.Module):\n",
    "    def __init__(self):\n",
    "        super(PerceptualLoss, self).__init__()\n",
    "        self.vgg = vgg19(pretrained=True).features\n",
    "        for param in self.vgg.parameters():\n",
    "            param.requires_grad = False\n",
    "\n",
    "    def forward(self, x, y):\n",
    "        x_vgg = self.vgg(x)\n",
    "        y_vgg = self.vgg(y)\n",
    "        loss = F.l1_loss(x_vgg, y_vgg)\n",
    "        return loss"
   ]
  },
  {
   "cell_type": "markdown",
   "id": "6394fc48-596d-4658-b640-db2732b8af68",
   "metadata": {},
   "source": [
    "### Combined Loss"
   ]
  },
  {
   "cell_type": "code",
   "execution_count": 20,
   "id": "b26e0a86",
   "metadata": {},
   "outputs": [],
   "source": [
    "class CombinedLoss(nn.Module):\n",
    "    def __init__(self, alpha=1.0, beta=0.5, gamma=0.5):\n",
    "        super(CombinedLoss, self).__init__()\n",
    "        self.ssim_module = SSIM(data_range=1.0, size_average=True, channel=1)\n",
    "        self.l1_loss = nn.L1Loss()\n",
    "        self.perceptual_loss = PerceptualLoss()\n",
    "        self.alpha = alpha\n",
    "        self.beta = beta\n",
    "        self.gamma = gamma\n",
    "\n",
    "    def forward(self, outputs, original):\n",
    "        ssim_loss = 1 - self.ssim_module(outputs, original)\n",
    "        l1 = self.l1_loss(outputs, original)\n",
    "        \n",
    "        # Convert grayscale to 3-channel image for VGG19\n",
    "        outputs_3ch = torch.cat([outputs]*3, dim=1)\n",
    "        original_3ch = torch.cat([original]*3, dim=1)\n",
    "\n",
    "        perceptual = self.perceptual_loss(outputs_3ch, original_3ch) * 10\n",
    "\n",
    "        loss = self.alpha * l1 + self.beta * perceptual + self.gamma * ssim_loss\n",
    "\n",
    "        return loss"
   ]
  },
  {
   "cell_type": "markdown",
   "id": "da7fd6fd-58f1-4a16-aade-0d6578a28340",
   "metadata": {},
   "source": [
    "## Model Initialization"
   ]
  },
  {
   "cell_type": "code",
   "execution_count": 21,
   "id": "9d5665ea",
   "metadata": {},
   "outputs": [
    {
     "name": "stderr",
     "output_type": "stream",
     "text": [
      "/home/sd205521/anaconda3/envs/rapids-23.12/lib/python3.10/site-packages/torchvision/models/_utils.py:208: UserWarning: The parameter 'pretrained' is deprecated since 0.13 and may be removed in the future, please use 'weights' instead.\n",
      "  warnings.warn(\n",
      "/home/sd205521/anaconda3/envs/rapids-23.12/lib/python3.10/site-packages/torchvision/models/_utils.py:223: UserWarning: Arguments other than a weight enum or `None` for 'weights' are deprecated since 0.13 and may be removed in the future. The current behavior is equivalent to passing `weights=VGG19_Weights.IMAGENET1K_V1`. You can also use `weights=VGG19_Weights.DEFAULT` to get the most up-to-date weights.\n",
      "  warnings.warn(msg)\n"
     ]
    }
   ],
   "source": [
    "model = ModifiedVDSR().to(device)\n",
    "loss_fn = CombinedLoss().to(device)\n",
    "optimizer = optim.Adam(model.parameters(), lr=LEARNING_RATE)"
   ]
  },
  {
   "cell_type": "markdown",
   "id": "2c891cd1-714e-4428-b3cc-ff14b9a875ed",
   "metadata": {},
   "source": [
    "## Model Training"
   ]
  },
  {
   "cell_type": "markdown",
   "id": "a422bf69-ab18-460e-83b0-f4f040358708",
   "metadata": {},
   "source": [
    "### Start Training"
   ]
  },
  {
   "cell_type": "code",
   "execution_count": 22,
   "id": "f7923b4e",
   "metadata": {},
   "outputs": [
    {
     "name": "stdout",
     "output_type": "stream",
     "text": [
      "Model loaded from models/VDSR/model_epoch_50.pth\n",
      "Continuing to train model from epoch 50 for 0 more epochs.\n"
     ]
    },
    {
     "data": {
      "application/vnd.jupyter.widget-view+json": {
       "model_id": "83419eb548c94e729774bb7788ecbe36",
       "version_major": 2,
       "version_minor": 0
      },
      "text/plain": [
       "0it [00:00, ?it/s]"
      ]
     },
     "metadata": {},
     "output_type": "display_data"
    }
   ],
   "source": [
    "model_results = train(model_name = 'model',\n",
    "                      model=model,\n",
    "                      train_dataloader=train_dataloader,\n",
    "                      val_dataloader=val_dataloader,\n",
    "                      optimizer=optimizer,\n",
    "                      loss_fn=loss_fn,\n",
    "                      patch_height=PATCH_HEIGHT,\n",
    "                      patch_width=PATCH_WIDTH,\n",
    "                      padding_size=PADDING_SIZE,\n",
    "                      max_epochs=MAX_EPOCHS,\n",
    "                      save_epochs=SAVE_EPOCHS,\n",
    "                      device=device,\n",
    "                      load_model=LOAD_MODEL,\n",
    "                      save_model=SAVE_MODEL,\n",
    "                      continue_training=CONTINUE_TRAINING,\n",
    "                      print_images=PRINT_IMAGES)"
   ]
  },
  {
   "cell_type": "markdown",
   "id": "edcb7953-262e-443a-ac3f-10acecd3f561",
   "metadata": {},
   "source": [
    "### Plot Training and Validation Loss"
   ]
  },
  {
   "cell_type": "code",
   "execution_count": 23,
   "id": "2528f52c",
   "metadata": {},
   "outputs": [
    {
     "name": "stdout",
     "output_type": "stream",
     "text": [
      "Image has been saved at Images/VDSR/model_Train_Val_Loss\n"
     ]
    },
    {
     "data": {
      "image/png": "[encoded data removed]",
      "text/plain": [
       "<Figure size 1000x500 with 1 Axes>"
      ]
     },
     "metadata": {},
     "output_type": "display_data"
    }
   ],
   "source": [
    "plot_train_val_loss(model_results, 'model', image_dir_path=image_dir_path)"
   ]
  },
  {
   "cell_type": "code",
   "execution_count": null,
   "id": "9cc2bfaf",
   "metadata": {},
   "outputs": [],
   "source": []
  }
 ],
 "metadata": {
  "kernelspec": {
   "display_name": "Python 3 (ipykernel)",
   "language": "python",
   "name": "python3"
  },
  "language_info": {
   "codemirror_mode": {
    "name": "ipython",
    "version": 3
   },
   "file_extension": ".py",
   "mimetype": "text/x-python",
   "name": "python",
   "nbconvert_exporter": "python",
   "pygments_lexer": "ipython3",
   "version": "3.10.13"
  }
 },
 "nbformat": 4,
 "nbformat_minor": 5
}
