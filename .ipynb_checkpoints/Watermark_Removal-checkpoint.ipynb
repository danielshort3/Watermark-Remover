{
 "cells": [
  {
   "cell_type": "markdown",
   "id": "dbaecc42-7d58-4c76-9559-074eec4eaf2d",
   "metadata": {},
   "source": [
    "# Watermark Removal"
   ]
  },
  {
   "cell_type": "markdown",
   "id": "21a84de7-fa44-4235-abd9-5de8c38297f7",
   "metadata": {},
   "source": [
    "## Setup and Imports"
   ]
  },
  {
   "cell_type": "markdown",
   "id": "dd7deb41-d004-4dd8-90e4-5fb11ddafe3d",
   "metadata": {},
   "source": [
    "### Import Libraries"
   ]
  },
  {
   "cell_type": "code",
   "execution_count": 1,
   "id": "d95fd400",
   "metadata": {},
   "outputs": [],
   "source": [
    "import os\n",
    "import re\n",
    "import random\n",
    "from timeit import default_timer as timer\n",
    "from glob import glob\n",
    "from random import sample, seed\n",
    "\n",
    "import numpy as np\n",
    "import matplotlib.pyplot as plt\n",
    "from PIL import Image, ImageEnhance, ImageChops\n",
    "from sklearn.model_selection import train_test_split\n",
    "from sklearn.utils import shuffle\n",
    "from tqdm.auto import tqdm\n",
    "from tqdm.notebook import tqdm\n",
    "\n",
    "import torch\n",
    "import torch.nn as nn\n",
    "import torch.nn.functional as F\n",
    "import torch.optim as optim\n",
    "from torch.utils.data import Dataset, DataLoader, ConcatDataset, Subset\n",
    "from torchvision import transforms, models\n",
    "from torchvision.models import vgg19\n",
    "from pytorch_msssim import SSIM"
   ]
  },
  {
   "cell_type": "markdown",
   "id": "c690d837-2e84-477f-87c6-cd272849a10a",
   "metadata": {},
   "source": [
    "## Helper Functions"
   ]
  },
  {
   "cell_type": "markdown",
   "id": "71434099-f5b6-4b08-9709-99215067f452",
   "metadata": {},
   "source": [
    "### Convert PIL Image to Tensor"
   ]
  },
  {
   "cell_type": "code",
   "execution_count": 2,
   "id": "14d75919-1528-42da-8812-d7a99cf89fa9",
   "metadata": {},
   "outputs": [],
   "source": [
    "def PIL_to_tensor(path):\n",
    "    \"\"\"\n",
    "    Convert a PIL image to a PyTorch tensor.\n",
    "    \n",
    "    Parameters:\n",
    "    - path (str): Path to the image file.\n",
    "    \n",
    "    Returns:\n",
    "    - image_tensor (Tensor): PyTorch tensor representation of the image.\n",
    "    \"\"\"\n",
    "    image = Image.open(path).convert('L')\n",
    "    to_tensor = transforms.ToTensor()\n",
    "    image_tensor = to_tensor(image)\n",
    "    return image_tensor"
   ]
  },
  {
   "cell_type": "markdown",
   "id": "8b279f7a-d23c-4d8c-9844-a501684abd85",
   "metadata": {},
   "source": [
    "### Display Images"
   ]
  },
  {
   "cell_type": "code",
   "execution_count": 3,
   "id": "577d6a17",
   "metadata": {},
   "outputs": [],
   "source": [
    "def display_images(original, watermarked, outputs, model, device):\n",
    "    \"\"\"\n",
    "    Display original, watermarked, and output images side by side.\n",
    "    \n",
    "    Parameters:\n",
    "    - original (Tensor): Original images.\n",
    "    - watermarked (Tensor): Watermarked images.\n",
    "    - outputs (Tensor): Model output images.\n",
    "    - model (nn.Module): The model used for generating outputs.\n",
    "    - device (torch.device): Device to run the model on (CPU or GPU).\n",
    "    \"\"\"\n",
    "    plt.figure(figsize=(50, 30))\n",
    "    plt.subplot(1, 3, 1)\n",
    "    plt.imshow(original[0].cpu().numpy().transpose(1, 2, 0), cmap='gray')\n",
    "    plt.title(\"Original\")\n",
    "    plt.subplot(1, 3, 2)\n",
    "    plt.imshow(watermarked[0].cpu().numpy().transpose(1, 2, 0), cmap='gray')\n",
    "    plt.title(\"Watermarked\")\n",
    "    plt.subplot(1, 3, 3)\n",
    "    plt.imshow(outputs[0].cpu().detach().numpy().transpose(1, 2, 0), cmap='gray')\n",
    "    plt.title(\"Output\")\n",
    "    plt.show()"
   ]
  },
  {
   "cell_type": "markdown",
   "id": "8c41e9e6-ed2b-4e12-ae57-0cfe8beea579",
   "metadata": {},
   "source": [
    "## Paths Setup"
   ]
  },
  {
   "cell_type": "markdown",
   "id": "731395cd-7c5a-4b09-bbfe-ae265e8aac0a",
   "metadata": {},
   "source": [
    "### Define Paths"
   ]
  },
  {
   "cell_type": "code",
   "execution_count": 4,
   "id": "7e6ecd20",
   "metadata": {},
   "outputs": [],
   "source": [
    "paths = {\n",
    "    'Image_Folder': 'Images',\n",
    "    'Model_Folder': 'models',\n",
    "    'Result_Folder': 'Results',\n",
    "    'Data_Folder': 'data',\n",
    "    'Data_SubFolder': 'Church_Music_Images_Downscaled',\n",
    "    'SubFolder': \"Watermark_Removal\",\n",
    "    'original_watermarked_path': 'data/Actual_Images/Low_Res_Watermark',\n",
    "    'original_unwatermarked_path': 'data/Actual_Images/Low_Res_Shifted',\n",
    "}\n",
    "    \n",
    "# Create directories if they do not exist\n",
    "image_dir_path = os.path.join(paths['Image_Folder'], paths['SubFolder'])\n",
    "os.makedirs(image_dir_path, exist_ok=True)\n",
    "\n",
    "model_dir_path = os.path.join(paths['Model_Folder'], paths['SubFolder'])\n",
    "os.makedirs(model_dir_path, exist_ok=True)\n",
    "\n",
    "result_dir_path = os.path.join(paths['Result_Folder'], paths['SubFolder'])\n",
    "os.makedirs(result_dir_path, exist_ok=True)"
   ]
  },
  {
   "cell_type": "markdown",
   "id": "fda3d1ba",
   "metadata": {},
   "source": [
    "## Training Functions"
   ]
  },
  {
   "cell_type": "markdown",
   "id": "adb7eef4-4bff-497d-9e2a-0e12b9d2638c",
   "metadata": {},
   "source": [
    "### Training Step"
   ]
  },
  {
   "cell_type": "code",
   "execution_count": 5,
   "id": "31f4e879",
   "metadata": {},
   "outputs": [],
   "source": [
    "def train_step(model: torch.nn.Module,\n",
    "               dataloader: torch.utils.data.DataLoader,\n",
    "               loss_fn: torch.nn.Module,\n",
    "               optimizer: torch.optim.Optimizer,\n",
    "               device,\n",
    "               print_images=0):\n",
    "    \"\"\"\n",
    "    Perform a single training step.\n",
    "    \n",
    "    Parameters:\n",
    "    - model (nn.Module): The model to train.\n",
    "    - dataloader (DataLoader): DataLoader for training data.\n",
    "    - loss_fn (nn.Module): Loss function.\n",
    "    - optimizer (torch.optim.Optimizer): Optimizer for training.\n",
    "    - device (torch.device): Device to run the training on (CPU or GPU).\n",
    "    - print_images (int): Interval for displaying images during training (default: 0).\n",
    "    \n",
    "    Returns:\n",
    "    - train_loss (float): Average training loss.\n",
    "    \"\"\"\n",
    "    model.train()\n",
    "    train_loss = 0\n",
    "        \n",
    "    for batch_idx, (original, watermarked) in tqdm(enumerate(dataloader), total=len(dataloader)):\n",
    "        \n",
    "        # Move data to the device\n",
    "        original, watermarked = original.to(device), watermarked.to(device)\n",
    "        \n",
    "        # Forward pass\n",
    "        outputs = model(watermarked)\n",
    "        loss = loss_fn(outputs, original)\n",
    "        \n",
    "        # Zero grad, backward pass, optimizer step\n",
    "        batch_loss = loss.item()\n",
    "        train_loss += batch_loss\n",
    "        \n",
    "        optimizer.zero_grad()\n",
    "        loss.backward()\n",
    "        optimizer.step()\n",
    "\n",
    "        print(f\"\\rBatch {batch_idx + 1}: Training Loss: {batch_loss:.6f}\", end=\"\")\n",
    "        \n",
    "        if batch_idx % print_images == 0:\n",
    "            display_images(original, watermarked, outputs, model, device)\n",
    "\n",
    "    train_loss /= len(dataloader)\n",
    "    return train_loss"
   ]
  },
  {
   "cell_type": "markdown",
   "id": "8c55fb33-c6c2-4593-bf09-678482fa44b5",
   "metadata": {},
   "source": [
    "### Validation Step"
   ]
  },
  {
   "cell_type": "code",
   "execution_count": 6,
   "id": "848c01fd",
   "metadata": {},
   "outputs": [],
   "source": [
    "def val_step(model: torch.nn.Module,\n",
    "             dataloader: torch.utils.data.DataLoader,\n",
    "             loss_fn: torch.nn.Module,\n",
    "             device,\n",
    "             print_images=0):\n",
    "    \"\"\"\n",
    "    Perform a single validation step.\n",
    "    \n",
    "    Parameters:\n",
    "    - model (nn.Module): The model to validate.\n",
    "    - dataloader (DataLoader): DataLoader for validation data.\n",
    "    - loss_fn (nn.Module): Loss function.\n",
    "    - device (torch.device): Device to run the validation on (CPU or GPU).\n",
    "    - print_images (int): Interval for displaying images during validation (default: 0).\n",
    "    \n",
    "    Returns:\n",
    "    - val_loss (float): Average validation loss.\n",
    "    \"\"\"\n",
    "    model.eval()\n",
    "    val_loss = 0\n",
    "    \n",
    "    with torch.inference_mode():\n",
    "        for batch_idx, (original, watermarked) in tqdm(enumerate(dataloader), total=len(dataloader)):\n",
    "            # Move data to the device\n",
    "            original, watermarked = original.to(device), watermarked.to(device)\n",
    "            \n",
    "            # Forward pass\n",
    "            outputs = model(watermarked)\n",
    "            loss = loss_fn(outputs, original)\n",
    "             \n",
    "            batch_loss = loss.item()\n",
    "            val_loss += batch_loss\n",
    "\n",
    "            print(f\"\\rBatch {batch_idx + 1}: Validation Loss: {batch_loss:.6f}\", end=\"\")\n",
    "    \n",
    "            if batch_idx % print_images == 0:\n",
    "                display_images(original, watermarked, outputs, model, device)\n",
    "                \n",
    "    val_loss /= len(dataloader)\n",
    "    return val_loss"
   ]
  },
  {
   "cell_type": "markdown",
   "id": "2e700b4d-c06b-4557-960b-facf3da42984",
   "metadata": {},
   "source": [
    "### Training Function"
   ]
  },
  {
   "cell_type": "code",
   "execution_count": 7,
   "id": "934471ab",
   "metadata": {},
   "outputs": [],
   "source": [
    "def train(model_name: str,\n",
    "          model: torch.nn.Module,\n",
    "          train_dataloader: torch.utils.data.DataLoader,\n",
    "          val_dataloader: torch.utils.data.DataLoader,\n",
    "          optimizer: torch.optim.Optimizer,\n",
    "          loss_fn: torch.nn.Module,\n",
    "          max_epochs: int = 3,\n",
    "          save_epochs: int = 1,\n",
    "          device=None,\n",
    "          load_model: bool = True,\n",
    "          save_model: bool = True,\n",
    "          continue_training: bool = False,\n",
    "          print_images: int = 0,\n",
    "          model_dir_path=model_dir_path):\n",
    "    \"\"\"\n",
    "    Train the model.\n",
    "    \n",
    "    Parameters:\n",
    "    - model_name (str): Name of the model.\n",
    "    - model (nn.Module): The model to train.\n",
    "    - train_dataloader (DataLoader): DataLoader for training data.\n",
    "    - val_dataloader (DataLoader): DataLoader for validation data.\n",
    "    - optimizer (torch.optim.Optimizer): Optimizer for training.\n",
    "    - loss_fn (nn.Module): Loss function.\n",
    "    - max_epochs (int): Maximum number of epochs to train (default: 3).\n",
    "    - save_epochs (int): Interval for saving the model (default: 1).\n",
    "    - device (torch.device): Device to run the training on (CPU or GPU).\n",
    "    - load_model (bool): Flag to load an existing model (default: True).\n",
    "    - save_model (bool): Flag to save the model (default: True).\n",
    "    - continue_training (bool): Flag to continue training from the last checkpoint (default: False).\n",
    "    - print_images (int): Interval for displaying images during training (default: 0).\n",
    "    - model_dir_path (str): Path to the directory to save the model.\n",
    "    \n",
    "    Returns:\n",
    "    - results (dict): Dictionary containing training and validation losses and training time.\n",
    "    \"\"\"\n",
    "    # Define the full model path including the file name\n",
    "    model_path = os.path.join(model_dir_path, f\"{model_name}.pth\")\n",
    "\n",
    "    # Initialize a dictionary to store training and validation losses and accuracies for each epoch\n",
    "    results = {\"train_loss\": [],\n",
    "               \"val_loss\": []}\n",
    "\n",
    "    # Load the existing model and losses if required\n",
    "    if load_model:\n",
    "        model_path, last_epoch = find_latest_checkpoint(model_dir_path, model_name)\n",
    "        if model_path is None:\n",
    "            print(f\"No existing model found. Training a new model.\")\n",
    "            start_epoch = 1\n",
    "        else:\n",
    "            loaded = load_model_fn(model, model_path, results)\n",
    "            if loaded and not continue_training:\n",
    "                return results\n",
    "\n",
    "            print(f\"Continuing to train {model_name} from epoch {last_epoch} for {max_epochs - last_epoch} more epochs.\")\n",
    "            start_epoch = last_epoch + 1\n",
    "    else:\n",
    "        start_epoch = 1\n",
    "\n",
    "    # Establish the start time for training\n",
    "    start_time = timer()\n",
    "\n",
    "    # Loop over epochs\n",
    "    for epoch in tqdm(range(start_epoch, max_epochs + 1)):\n",
    "        # Refresh the file list for training and validation datasets\n",
    "        dataset.refresh_file_list(training=True)\n",
    "        \n",
    "        # Execute a training step and get training loss\n",
    "        train_loss = train_step(model=model,\n",
    "                                dataloader=train_dataloader,\n",
    "                                loss_fn=loss_fn,\n",
    "                                optimizer=optimizer,\n",
    "                                device=device,\n",
    "                                print_images=print_images)\n",
    "        \n",
    "        # Refresh the file list for validation dataset\n",
    "        dataset.refresh_file_list(training=False)\n",
    "        \n",
    "        # Execute a validation step and get validation loss\n",
    "        val_loss = val_step(model=model,\n",
    "                            dataloader=val_dataloader,\n",
    "                            loss_fn=loss_fn,\n",
    "                            device=device,\n",
    "                            print_images=print_images)\n",
    "        \n",
    "        # Print losses for this epoch\n",
    "        print(f\"\\n\\nEpoch: {epoch} | Train loss: {train_loss:.6f} | Val loss: {val_loss:.6f}\\n\")\n",
    "\n",
    "        # Append losses to results dictionary\n",
    "        results[\"train_loss\"].append(train_loss)\n",
    "        results[\"val_loss\"].append(val_loss)\n",
    "\n",
    "        # Establish the end time for the current epoch and calculate training time\n",
    "        end_time = timer()\n",
    "        train_time = end_time - start_time\n",
    "        results['train_time'] = train_time  # Add train_time to the results dictionary\n",
    "      \n",
    "        # Condition to save the model every save_epochs epochs\n",
    "        if (epoch - 1) % save_epochs == 0 and save_model:\n",
    "            epoch_model_path = os.path.join(model_dir_path, f\"{model_name}_epoch_{epoch}.pth\")\n",
    "            results['last_epoch'] = epoch  # Store the current epoch number\n",
    "            save_model_fn(model, epoch_model_path, results)\n",
    "    \n",
    "    return results"
   ]
  },
  {
   "cell_type": "markdown",
   "id": "1da6b91f-41a2-4363-a4fd-b013b762c477",
   "metadata": {},
   "source": [
    "### Load Model Function"
   ]
  },
  {
   "cell_type": "code",
   "execution_count": 8,
   "id": "0d3d0327",
   "metadata": {},
   "outputs": [],
   "source": [
    "def load_model_fn(model, model_path, results):\n",
    "    \"\"\"\n",
    "    Load the model from a checkpoint.\n",
    "    \n",
    "    Parameters:\n",
    "    - model (nn.Module): The model to load the state into.\n",
    "    - model_path (str): Path to the checkpoint file.\n",
    "    - results (dict): Dictionary to store the loaded results.\n",
    "    \n",
    "    Returns:\n",
    "    - loaded (bool): Flag indicating if the model was successfully loaded.\n",
    "    \"\"\"\n",
    "    if os.path.isfile(model_path):\n",
    "        checkpoint = torch.load(model_path)\n",
    "        model.load_state_dict(checkpoint['state_dict'], strict=False)\n",
    "        results['train_loss'] = checkpoint['train_loss']\n",
    "        results['val_loss'] = checkpoint['val_loss']\n",
    "        results['train_time'] = checkpoint['train_time']\n",
    "        results['last_epoch'] = checkpoint.get('last_epoch', 0)  # Load the last_epoch value if it exists\n",
    "        print(f\"Model loaded from {model_path}\")\n",
    "        return True\n",
    "    else:\n",
    "        print(f\"No existing model found at {model_path}. Training a new model.\")\n",
    "        return False"
   ]
  },
  {
   "cell_type": "markdown",
   "id": "305546a1-b938-4408-a6d3-86b789440ceb",
   "metadata": {},
   "source": [
    "### Save Model Function"
   ]
  },
  {
   "cell_type": "code",
   "execution_count": 9,
   "id": "52e6bc18",
   "metadata": {},
   "outputs": [],
   "source": [
    "def save_model_fn(model, model_path, results):\n",
    "    \"\"\"\n",
    "    Save the model to a checkpoint.\n",
    "    \n",
    "    Parameters:\n",
    "    - model (nn.Module): The model to save.\n",
    "    - model_path (str): Path to save the checkpoint file.\n",
    "    - results (dict): Dictionary containing the results to save.\n",
    "    \"\"\"\n",
    "    save_dict = {\n",
    "        'state_dict': model.state_dict(),\n",
    "        'train_loss': results['train_loss'],\n",
    "        'val_loss': results['val_loss'],\n",
    "        'train_time': results['train_time'],\n",
    "        'last_epoch': results.get('last_epoch', 0)  # Save the last_epoch value if it exists\n",
    "    }\n",
    "    torch.save(save_dict, model_path)\n",
    "    print(f\"Model saved at {model_path}\")"
   ]
  },
  {
   "cell_type": "markdown",
   "id": "29db428a-620b-4f5a-8c4f-1c99684b377b",
   "metadata": {},
   "source": [
    "### Find Latest Checkpoint"
   ]
  },
  {
   "cell_type": "code",
   "execution_count": 10,
   "id": "1020efca",
   "metadata": {},
   "outputs": [],
   "source": [
    "def find_latest_checkpoint(model_dir_path, model_name):\n",
    "    \"\"\"\n",
    "    Find the latest checkpoint for a given model.\n",
    "    \n",
    "    Parameters:\n",
    "    - model_dir_path (str): Directory path where the model checkpoints are stored.\n",
    "    - model_name (str): Name of the model.\n",
    "    \n",
    "    Returns:\n",
    "    - latest_model_path (str): Path to the latest model checkpoint.\n",
    "    - max_epoch (int): The latest epoch number.\n",
    "    \"\"\"\n",
    "    max_epoch = -1\n",
    "    latest_model_path = None\n",
    "    \n",
    "    for filename in os.listdir(model_dir_path):\n",
    "        if model_name in filename and filename.endswith(\".pth\"):\n",
    "            epoch_number = int(filename.split('_epoch_')[-1].split('.pth')[0])\n",
    "            if epoch_number > max_epoch:\n",
    "                max_epoch = epoch_number\n",
    "                latest_model_path = os.path.join(model_dir_path, filename)\n",
    "    \n",
    "    return latest_model_path, max_epoch"
   ]
  },
  {
   "cell_type": "markdown",
   "id": "8467a090-8450-4231-bd71-c5818fde737e",
   "metadata": {},
   "source": [
    "### Save Plot"
   ]
  },
  {
   "cell_type": "code",
   "execution_count": 11,
   "id": "9e67f3b3",
   "metadata": {},
   "outputs": [],
   "source": [
    "def save_plot(file_name, dir_path, plt):\n",
    "    \"\"\"\n",
    "    Save the plot to a specified directory.\n",
    "    \n",
    "    Parameters:\n",
    "    - file_name (str): Name of the file to save the plot as.\n",
    "    - dir_path (str): Directory path to save the plot.\n",
    "    - plt (matplotlib.pyplot): The plot object to save.\n",
    "    \"\"\"\n",
    "    # Construct the full path for the image\n",
    "    full_path = os.path.join(dir_path, file_name)\n",
    "    \n",
    "    # Save the plot\n",
    "    plt.savefig(full_path)\n",
    "    \n",
    "    # Print a message indicating the image has been saved\n",
    "    print(f\"Image has been saved at {full_path}\")\n"
   ]
  },
  {
   "cell_type": "markdown",
   "id": "0821699c-eadc-4f61-97e7-7198f1f8a8a5",
   "metadata": {},
   "source": [
    "### Plot Training and Validation Loss"
   ]
  },
  {
   "cell_type": "code",
   "execution_count": 12,
   "id": "cee6fcf4",
   "metadata": {},
   "outputs": [],
   "source": [
    "def plot_train_val_loss(results, model, image_dir_path=image_dir_path):\n",
    "    plt.figure(figsize=(10,5))\n",
    "\n",
    "    plt.plot(results['train_loss'], label='Training Loss')\n",
    "    plt.plot(results['val_loss'], label='Validation Loss')\n",
    "\n",
    "    # Find the epoch with the lowest validation loss\n",
    "    min_val_loss_epoch = results['val_loss'].index(min(results['val_loss']))\n",
    "    min_val_loss_value = results['val_loss'][min_val_loss_epoch]\n",
    "\n",
    "    # Get current y-axis and x-axis limits\n",
    "    y_lim = plt.ylim()\n",
    "    x_lim = plt.xlim()\n",
    "\n",
    "    # Determine annotation position\n",
    "    offset_y = 0.05 * (y_lim[1] - y_lim[0])  # 5% of y-axis range for vertical adjustment\n",
    "    offset_x = 0.05 * (x_lim[1] - x_lim[0])  # 5% of x-axis range for horizontal adjustment\n",
    "    \n",
    "    if min_val_loss_epoch > (x_lim[1] - x_lim[0]) / 2:\n",
    "        text_position_x = min_val_loss_epoch - offset_x\n",
    "    else:\n",
    "        text_position_x = min_val_loss_epoch + offset_x\n",
    "\n",
    "    text_position_y = min_val_loss_value + offset_y\n",
    "\n",
    "    # Annotate the point with the epoch and validation loss value\n",
    "    plt.annotate(f'Lowest Val Loss\\nEpoch: {min_val_loss_epoch + 1}\\nLoss: {min_val_loss_value:.5f}',\n",
    "                 xy=(min_val_loss_epoch, min_val_loss_value),\n",
    "                 xytext=(text_position_x, text_position_y),\n",
    "                 arrowprops=dict(facecolor='black', arrowstyle='->'),\n",
    "                 fontsize=9,\n",
    "                 ha='center',\n",
    "                 bbox=dict(boxstyle=\"round,pad=0.3\", edgecolor=\"black\", facecolor=\"white\"))\n",
    "\n",
    "    plt.xlabel('Epoch')\n",
    "    plt.ylabel('Loss')\n",
    "    plt.title(f'Train and Validation Loss for {model}')\n",
    "    plt.legend()\n",
    "\n",
    "    save_plot(f\"{model}_Train_Val_Loss\", image_dir_path, plt)\n",
    "\n",
    "    plt.show()"
   ]
  },
  {
   "cell_type": "markdown",
   "id": "6ec5c901",
   "metadata": {},
   "source": [
    "## Dataset"
   ]
  },
  {
   "cell_type": "markdown",
   "id": "563cdb04-d9ad-452f-8e08-4638f6ff725a",
   "metadata": {},
   "source": [
    "### Modified Original Watermark Dataset"
   ]
  },
  {
   "cell_type": "code",
   "execution_count": 13,
   "id": "d994d5ae",
   "metadata": {},
   "outputs": [],
   "source": [
    "class ModifiedOriginalWatermarkDataset(Dataset):\n",
    "    def __init__(self, dir_unwatermarked, dir_watermarked, dir_unwatermarked_online, dir_watermarked_online, dir_unwatermarked_other, dir_watermarked_other, alpha=0.1, random_state=None):\n",
    "        \"\"\"\n",
    "        Initialize the dataset with various directories and parameters.\n",
    "        \n",
    "        Parameters:\n",
    "        - dir_unwatermarked (str): Directory path for unwatermarked images.\n",
    "        - dir_watermarked (str): Directory path for watermarked images.\n",
    "        - dir_unwatermarked_online (str): Directory path for unwatermarked online images.\n",
    "        - dir_watermarked_online (str): Directory path for watermarked online images.\n",
    "        - dir_unwatermarked_other (str): Directory path for other unwatermarked images.\n",
    "        - dir_watermarked_other (str): Directory path for other watermarked images.\n",
    "        - alpha (float): Fraction of data to use for validation (default: 0.1).\n",
    "        - random_state (int): Seed for reproducibility (default: None).\n",
    "        \"\"\"\n",
    "        self.dir_unwatermarked = dir_unwatermarked\n",
    "        self.dir_watermarked = dir_watermarked\n",
    "        self.dir_unwatermarked_online = dir_unwatermarked_online\n",
    "        self.dir_watermarked_online = dir_watermarked_online\n",
    "        self.dir_unwatermarked_other = dir_unwatermarked_other\n",
    "        self.dir_watermarked_other = dir_watermarked_other\n",
    "\n",
    "        random.seed(42)\n",
    "        \n",
    "        all_files = os.listdir(self.dir_unwatermarked)\n",
    "        self.train_files, self.val_files = train_test_split(all_files, test_size=alpha, random_state=random_state)\n",
    "\n",
    "        self.file_list = []\n",
    "        self.refresh_file_list(training=True, print_counts=False)\n",
    "\n",
    "        self.transform = transforms.Compose([\n",
    "            transforms.Resize((792, 612)),\n",
    "            transforms.Grayscale(),\n",
    "            transforms.ToTensor()\n",
    "        ])\n",
    "\n",
    "    def refresh_file_list(self, training=True, print_counts=True):\n",
    "        \"\"\"\n",
    "        Refresh the file list for training or validation.\n",
    "        \n",
    "        Parameters:\n",
    "        - training (bool): Flag to indicate if the file list is for training (default: True).\n",
    "        - print_counts (bool): Flag to print the counts of each file type (default: True).\n",
    "        \"\"\"\n",
    "        if training:\n",
    "            correlated_online_files = os.listdir(self.dir_unwatermarked_online)\n",
    "            other_files = os.listdir(self.dir_unwatermarked_other)\n",
    "            \n",
    "            self.file_list = [(f, 'original') for f in self.train_files] + \\\n",
    "                             [(f, 'other') for f in random.sample(other_files, len(self.train_files) // 10)] + \\\n",
    "                             [(f, 'online') for f in random.sample(correlated_online_files, len(self.train_files) // 20)]\n",
    "            \n",
    "            random.shuffle(self.file_list)\n",
    "            \n",
    "            if print_counts:\n",
    "                # Count the number of files for each type and display them\n",
    "                counts = {'original': 0, 'online': 0, 'other': 0}\n",
    "                for _, source in self.file_list:\n",
    "                    counts[source] += 1\n",
    "                print(f\"\\nNumber of original files: {counts['original']}\")\n",
    "                print(f\"Number of other files: {counts['other']}\")\n",
    "                print(f\"Number of online files: {counts['online']}\")            \n",
    "        else:\n",
    "            self.file_list = [(f, 'original') for f in self.val_files]\n",
    "            random.shuffle(self.file_list)  # Shuffle the validation files.\n",
    "            if print_counts:\n",
    "                # Count the number of files for each type and display them\n",
    "                counts = {'original': 0, 'online': 0, 'other': 0}\n",
    "                for _, source in self.file_list:\n",
    "                    counts[source] += 1\n",
    "                print(f\"\\n\\nNumber of original files: {counts['original']}\")\n",
    "                print(f\"Number of other files: {counts['other']}\")\n",
    "                print(f\"Number of online files: {counts['online']}\")\n",
    "\n",
    "    def __len__(self):\n",
    "        return len(self.file_list)\n",
    "\n",
    "    def __getitem__(self, idx):\n",
    "        \"\"\"\n",
    "        Get an item from the dataset.\n",
    "        \n",
    "        Parameters:\n",
    "        - idx (int): Index of the item.\n",
    "        \n",
    "        Returns:\n",
    "        - unwatermarked_img_tensor (Tensor): Unwatermarked image tensor.\n",
    "        - watermarked_img_tensor (Tensor): Watermarked image tensor.\n",
    "        \"\"\"\n",
    "        file_name, source = self.file_list[idx]\n",
    "        \n",
    "        if source == 'original':\n",
    "            unwatermarked_dir, watermarked_dir = self.dir_unwatermarked, self.dir_watermarked\n",
    "        elif source == 'online':\n",
    "            unwatermarked_dir, watermarked_dir = self.dir_unwatermarked_online, self.dir_watermarked_online\n",
    "        else:  # 'other'\n",
    "            unwatermarked_dir, watermarked_dir = self.dir_unwatermarked_other, self.dir_watermarked_other\n",
    "\n",
    "        unwatermarked_img = Image.open(os.path.join(unwatermarked_dir, file_name))\n",
    "        watermarked_img = Image.open(os.path.join(watermarked_dir, file_name))\n",
    "\n",
    "        unwatermarked_img_tensor = self.transform(unwatermarked_img)\n",
    "        watermarked_img_tensor = self.transform(watermarked_img)\n",
    "        \n",
    "        return unwatermarked_img_tensor, watermarked_img_tensor"
   ]
  },
  {
   "cell_type": "markdown",
   "id": "f0318177-00d7-424c-94f7-457741656bcf",
   "metadata": {},
   "source": [
    "### Create Dataset Instance"
   ]
  },
  {
   "cell_type": "code",
   "execution_count": 14,
   "id": "cd4aa6eb",
   "metadata": {},
   "outputs": [],
   "source": [
    "dataset = ModifiedOriginalWatermarkDataset(\n",
    "    dir_unwatermarked=paths['original_unwatermarked_path'],\n",
    "    dir_watermarked=paths['original_watermarked_path'],\n",
    "    dir_unwatermarked_online='data/Actual_Images/Low_Res_Online',\n",
    "    dir_watermarked_online='data/Actual_Images/Low_Res_Online',\n",
    "    dir_unwatermarked_other='data/Church_Music_Extracted/Low_Res',\n",
    "    dir_watermarked_other='data/Church_Music_Extracted/Low_Res',\n",
    "    alpha=0.1,\n",
    "    random_state=42  # Ensuring reproducibility\n",
    ")"
   ]
  },
  {
   "cell_type": "markdown",
   "id": "e04dddbf",
   "metadata": {},
   "source": [
    "## Model Configuration"
   ]
  },
  {
   "cell_type": "markdown",
   "id": "5f0526ba-bf77-497a-91bc-38ecfa7a49ab",
   "metadata": {},
   "source": [
    "### Define Constants"
   ]
  },
  {
   "cell_type": "code",
   "execution_count": 15,
   "id": "1bda0499",
   "metadata": {},
   "outputs": [],
   "source": [
    "# Constants\n",
    "MAX_EPOCHS = 500\n",
    "SAVE_EPOCHS = 1\n",
    "BATCH_SIZE = 4\n",
    "LEARNING_RATE = 0.001\n",
    "LOAD_MODEL = True\n",
    "SAVE_MODEL = True\n",
    "CONTINUE_TRAINING = True\n",
    "PRINT_IMAGES = 500"
   ]
  },
  {
   "cell_type": "markdown",
   "id": "ff79c0d7-4689-4b7f-8abb-473c6809e175",
   "metadata": {},
   "source": [
    "### Create DataLoaders"
   ]
  },
  {
   "cell_type": "code",
   "execution_count": 16,
   "id": "146025b5",
   "metadata": {},
   "outputs": [],
   "source": [
    "train_dataloader = DataLoader(dataset, batch_size=BATCH_SIZE, shuffle=True)\n",
    "val_dataloader = DataLoader(dataset, batch_size=BATCH_SIZE, shuffle=False)  # No shuffling for validation"
   ]
  },
  {
   "cell_type": "markdown",
   "id": "ccbb9340-96f6-450b-a0c4-2c3867a19677",
   "metadata": {},
   "source": [
    "### UNet Model"
   ]
  },
  {
   "cell_type": "code",
   "execution_count": 17,
   "id": "56ec9c00",
   "metadata": {},
   "outputs": [],
   "source": [
    "class UNet(nn.Module):\n",
    "    def __init__(self):\n",
    "        super(UNet, self).__init__()\n",
    "\n",
    "        # Encoder\n",
    "        self.enc1 = self.conv_block(1, 32)\n",
    "        self.enc2 = self.conv_block(32, 64)\n",
    "        self.enc3 = self.conv_block(64, 128)\n",
    "        self.enc4 = self.conv_block(128, 256)\n",
    "        self.enc5 = self.conv_block(256, 512)\n",
    "\n",
    "        # Middle\n",
    "        self.middle = nn.Sequential(\n",
    "            self.conv_block(512, 1024),\n",
    "            nn.ConvTranspose2d(1024, 512, kernel_size=2, stride=2)\n",
    "        )\n",
    "\n",
    "        # Decoder\n",
    "        self.dec5 = self.conv_block(512 + 512, 512)\n",
    "        self.dec4 = self.conv_block(512 + 256, 256)\n",
    "        self.dec3 = self.conv_block(256 + 128, 128)\n",
    "        self.dec2 = self.conv_block(128 + 64, 64)\n",
    "        self.dec1 = self.conv_block(64 + 32, 32)\n",
    "\n",
    "        # Final Layer\n",
    "        self.final_conv = nn.Conv2d(32, 1, kernel_size=1)\n",
    "\n",
    "    def conv_block(self, in_channels, out_channels):\n",
    "        \"\"\"\n",
    "        Convolutional block with Conv2D, BatchNorm, and ReLU.\n",
    "        \n",
    "        Parameters:\n",
    "        - in_channels (int): Number of input channels.\n",
    "        - out_channels (int): Number of output channels.\n",
    "        \n",
    "        Returns:\n",
    "        - Sequential model containing the convolutional block.\n",
    "        \"\"\"\n",
    "        return nn.Sequential(\n",
    "            nn.Conv2d(in_channels, out_channels, kernel_size=3, padding=1),\n",
    "            nn.BatchNorm2d(out_channels),\n",
    "            nn.ReLU(inplace=True),\n",
    "            nn.Conv2d(out_channels, out_channels, kernel_size=3, padding=1),\n",
    "            nn.BatchNorm2d(out_channels),\n",
    "            nn.ReLU(inplace=True),\n",
    "        )\n",
    "\n",
    "    def forward(self, x):\n",
    "        # Encoder\n",
    "        enc1 = self.enc1(x)\n",
    "        enc2 = self.enc2(F.max_pool2d(enc1, 2))\n",
    "        enc3 = self.enc3(F.max_pool2d(enc2, 2))\n",
    "        enc4 = self.enc4(F.max_pool2d(enc3, 2))\n",
    "        enc5 = self.enc5(F.max_pool2d(enc4, 2))\n",
    "        \n",
    "        # Middle\n",
    "        middle = self.middle(F.max_pool2d(enc5, 2))\n",
    "        enc5 = enc5[:, :, :middle.shape[2], :]\n",
    "        middle = middle + enc5  # Skip connection\n",
    "\n",
    "        # Decoder\n",
    "        dec5 = self.dec5(torch.cat([F.interpolate(middle, size=enc5.shape[2:]), enc5], dim=1))\n",
    "        dec4 = self.dec4(torch.cat([F.interpolate(dec5, size=enc4.shape[2:]), enc4], dim=1))\n",
    "        dec3 = self.dec3(torch.cat([F.interpolate(dec4, size=enc3.shape[2:]), enc3], dim=1))\n",
    "        dec2 = self.dec2(torch.cat([F.interpolate(dec3, size=enc2.shape[2:]), enc2], dim=1))\n",
    "        dec1 = self.dec1(torch.cat([F.interpolate(dec2, size=enc1.shape[2:]), enc1], dim=1))\n",
    "\n",
    "        # Final Layer\n",
    "        final_output = self.final_conv(dec1)\n",
    "        \n",
    "        return final_output.clamp(0, 1)\n"
   ]
  },
  {
   "cell_type": "markdown",
   "id": "6ec147cb-efd5-4311-983b-2822c3d6ba87",
   "metadata": {},
   "source": [
    "### Loss Functions"
   ]
  },
  {
   "cell_type": "markdown",
   "id": "338b13c0-5600-404c-b607-5cfad6b22346",
   "metadata": {},
   "source": [
    "#### Perceptual Loss"
   ]
  },
  {
   "cell_type": "code",
   "execution_count": 18,
   "id": "29f7a5d5-bdaa-40e2-b5d8-117550498574",
   "metadata": {},
   "outputs": [],
   "source": [
    "class PerceptualLoss(nn.Module):\n",
    "    def __init__(self):\n",
    "        super(PerceptualLoss, self).__init__()\n",
    "        self.vgg = vgg19(pretrained=True).features\n",
    "        for param in self.vgg.parameters():\n",
    "            param.requires_grad = False\n",
    "\n",
    "    def forward(self, x, y):\n",
    "        x_vgg = self.vgg(x)\n",
    "        y_vgg = self.vgg(y)\n",
    "        loss = F.l1_loss(x_vgg, y_vgg)\n",
    "        return loss"
   ]
  },
  {
   "cell_type": "markdown",
   "id": "41020da7-3a4a-4612-a271-1465df63698d",
   "metadata": {},
   "source": [
    "#### Combined Loss"
   ]
  },
  {
   "cell_type": "code",
   "execution_count": 19,
   "id": "e1c0b2da-6c58-4712-b951-56b565ac8aac",
   "metadata": {},
   "outputs": [],
   "source": [
    "class CombinedLoss(nn.Module):\n",
    "    def __init__(self, alpha=1.0, beta=0.5, gamma=0.5):\n",
    "        super(CombinedLoss, self).__init__()\n",
    "        self.ssim_module = SSIM(data_range=1.0, size_average=True, channel=1)\n",
    "        self.l1_loss = nn.L1Loss()\n",
    "        self.perceptual_loss = PerceptualLoss()\n",
    "        self.alpha = alpha\n",
    "        self.beta = beta\n",
    "        self.gamma = gamma\n",
    "\n",
    "    def forward(self, outputs, original):\n",
    "        ssim_loss = 1 - self.ssim_module(outputs, original)\n",
    "        l1 = self.l1_loss(outputs, original)\n",
    "        \n",
    "        # Convert grayscale to 3-channel image for VGG19\n",
    "        outputs_3ch = torch.cat([outputs] * 3, dim=1)\n",
    "        original_3ch = torch.cat([original] * 3, dim=1)\n",
    "\n",
    "        perceptual = self.perceptual_loss(outputs_3ch, original_3ch)\n",
    "\n",
    "        loss = self.alpha * l1 + self.beta * perceptual + self.gamma * ssim_loss\n",
    "\n",
    "        return loss"
   ]
  },
  {
   "cell_type": "markdown",
   "id": "dd9bfc18-047b-4371-bf13-0c2a761c3bd6",
   "metadata": {},
   "source": [
    "## Model Initialization"
   ]
  },
  {
   "cell_type": "markdown",
   "id": "27b55322-1bcc-4407-9624-0d1f60d0dbb5",
   "metadata": {},
   "source": [
    "### Dual GPU Configuration"
   ]
  },
  {
   "cell_type": "code",
   "execution_count": 20,
   "id": "71dd41b8",
   "metadata": {},
   "outputs": [
    {
     "name": "stderr",
     "output_type": "stream",
     "text": [
      "/home/sd205521/anaconda3/envs/rapids-23.12/lib/python3.10/site-packages/torchvision/models/_utils.py:208: UserWarning: The parameter 'pretrained' is deprecated since 0.13 and may be removed in the future, please use 'weights' instead.\n",
      "  warnings.warn(\n",
      "/home/sd205521/anaconda3/envs/rapids-23.12/lib/python3.10/site-packages/torchvision/models/_utils.py:223: UserWarning: Arguments other than a weight enum or `None` for 'weights' are deprecated since 0.13 and may be removed in the future. The current behavior is equivalent to passing `weights=VGG19_Weights.IMAGENET1K_V1`. You can also use `weights=VGG19_Weights.DEFAULT` to get the most up-to-date weights.\n",
      "  warnings.warn(msg)\n"
     ]
    }
   ],
   "source": [
    "# Dual GPUS\n",
    "device = torch.device(\"cuda:1\")\n",
    "\n",
    "model = nn.DataParallel(UNet(), device_ids=[1, 0]).to(device)\n",
    "loss_fn = CombinedLoss().to(device)\n",
    "optimizer = optim.Adam(model.parameters(), lr=LEARNING_RATE)"
   ]
  },
  {
   "cell_type": "markdown",
   "id": "4875a0c4-6f12-4bba-a3cd-693335abc2d1",
   "metadata": {},
   "source": [
    "### Single GPU Configuration (Optional)"
   ]
  },
  {
   "cell_type": "code",
   "execution_count": 21,
   "id": "b7e500af",
   "metadata": {},
   "outputs": [],
   "source": [
    "# # Single GPU\n",
    "# device = torch.device(\"cuda:1\")\n",
    "\n",
    "# model = UNet().to(device)\n",
    "# loss_fn = CombinedLoss().to(device)\n",
    "# optimizer = optim.Adam(model.parameters(), lr=LEARNING_RATE)"
   ]
  },
  {
   "cell_type": "markdown",
   "id": "126f1eb8-d060-4ed0-a0fa-0a831e0a0ce0",
   "metadata": {},
   "source": [
    "## Training and Evaluation"
   ]
  },
  {
   "cell_type": "markdown",
   "id": "6e710dac-3f60-451a-9d96-58a865dd4e85",
   "metadata": {},
   "source": [
    "### Train the Model"
   ]
  },
  {
   "cell_type": "code",
   "execution_count": 22,
   "id": "30cf0d36",
   "metadata": {},
   "outputs": [
    {
     "name": "stdout",
     "output_type": "stream",
     "text": [
      "Model loaded from models/Watermark_Removal/model_epoch_500.pth\n",
      "Image has been saved at Images/Watermark_Removal/model_Train_Val_Loss\n"
     ]
    },
    {
     "data": {
      "image/png": "[encoded data removed]",
      "text/plain": [
       "<Figure size 1000x500 with 1 Axes>"
      ]
     },
     "metadata": {},
     "output_type": "display_data"
    }
   ],
   "source": [
    "model_results = train(model_name='model',\n",
    "                      model=model,\n",
    "                      train_dataloader=train_dataloader,\n",
    "                      val_dataloader=val_dataloader,\n",
    "                      optimizer=optimizer,\n",
    "                      loss_fn=loss_fn,\n",
    "                      max_epochs=MAX_EPOCHS,\n",
    "                      save_epochs=SAVE_EPOCHS,\n",
    "                      device=device,\n",
    "                      load_model=LOAD_MODEL,\n",
    "                      save_model=False,\n",
    "                      continue_training=False,\n",
    "                      print_images=PRINT_IMAGES)\n",
    "\n",
    "plot_train_val_loss(model_results, 'model', image_dir_path=image_dir_path)"
   ]
  },
  {
   "cell_type": "markdown",
   "id": "7611104c-c9c2-4229-b536-ae69dddab93e",
   "metadata": {},
   "source": [
    "### Continue Training the Model"
   ]
  },
  {
   "cell_type": "code",
   "execution_count": 23,
   "id": "c859027a",
   "metadata": {},
   "outputs": [
    {
     "name": "stdout",
     "output_type": "stream",
     "text": [
      "Model loaded from models/Watermark_Removal/model_epoch_500.pth\n",
      "Continuing to train model from epoch 500 for 0 more epochs.\n"
     ]
    },
    {
     "data": {
      "application/vnd.jupyter.widget-view+json": {
       "model_id": "4aba0611f8ad4772929145f1a8128573",
       "version_major": 2,
       "version_minor": 0
      },
      "text/plain": [
       "0it [00:00, ?it/s]"
      ]
     },
     "metadata": {},
     "output_type": "display_data"
    }
   ],
   "source": [
    "model_results = train(model_name='model',\n",
    "                      model=model,\n",
    "                      train_dataloader=train_dataloader,\n",
    "                      val_dataloader=val_dataloader,\n",
    "                      optimizer=optimizer,\n",
    "                      loss_fn=loss_fn,\n",
    "                      max_epochs=MAX_EPOCHS,\n",
    "                      save_epochs=SAVE_EPOCHS,\n",
    "                      device=device,\n",
    "                      load_model=LOAD_MODEL,\n",
    "                      save_model=SAVE_MODEL,\n",
    "                      continue_training=CONTINUE_TRAINING,\n",
    "                      print_images=PRINT_IMAGES)\n"
   ]
  },
  {
   "cell_type": "markdown",
   "id": "fc12f5ac-ea83-4122-9bd9-9451e2f92e07",
   "metadata": {},
   "source": [
    "### Plot Training and Validation Loss"
   ]
  },
  {
   "cell_type": "code",
   "execution_count": 24,
   "id": "dd8ef227",
   "metadata": {},
   "outputs": [
    {
     "name": "stdout",
     "output_type": "stream",
     "text": [
      "Image has been saved at Images/Watermark_Removal/model_Train_Val_Loss\n"
     ]
    },
    {
     "data": {
      "image/png": "[encoded data removed]",
      "text/plain": [
       "<Figure size 1000x500 with 1 Axes>"
      ]
     },
     "metadata": {},
     "output_type": "display_data"
    }
   ],
   "source": [
    "plot_train_val_loss(model_results, 'model', image_dir_path=image_dir_path)"
   ]
  }
 ],
 "metadata": {
  "kernelspec": {
   "display_name": "Python 3 (ipykernel)",
   "language": "python",
   "name": "python3"
  },
  "language_info": {
   "codemirror_mode": {
    "name": "ipython",
    "version": 3
   },
   "file_extension": ".py",
   "mimetype": "text/x-python",
   "name": "python",
   "nbconvert_exporter": "python",
   "pygments_lexer": "ipython3",
   "version": "3.10.13"
  }
 },
 "nbformat": 4,
 "nbformat_minor": 5
}
